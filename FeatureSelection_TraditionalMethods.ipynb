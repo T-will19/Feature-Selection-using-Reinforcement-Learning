{
 "cells": [
  {
   "cell_type": "code",
   "execution_count": 1,
   "metadata": {},
   "outputs": [],
   "source": [
    "import random\n",
    "import numpy as np\n",
    "import pandas as pd\n",
    "import warnings\n",
    "warnings.filterwarnings('ignore')\n",
    "from sklearn import linear_model\n",
    "from sklearn.datasets import load_breast_cancer\n",
    "from sklearn.model_selection import train_test_split\n",
    "from sklearn.feature_selection import SelectKBest\n",
    "from sklearn.feature_selection import chi2\n",
    "from sklearn.feature_selection import f_classif \n",
    "from sklearn.feature_selection import mutual_info_classif"
   ]
  },
  {
   "cell_type": "code",
   "execution_count": null,
   "metadata": {},
   "outputs": [],
   "source": [
    "def calculate_fscore(X,Y):\n",
    "    X_train, X_test, y_train,  y_test = train_test_split(X, Y, test_size = 0.2)\n",
    "    clf = linear_model.LogisticRegression(solver='lbfgs')\n",
    "    clf.fit(X_train, y_train)\n",
    "    f1_score = clf.score(X_test, y_test)\n",
    "    return f1_score*100"
   ]
  },
  {
   "cell_type": "code",
   "execution_count": 4,
   "metadata": {},
   "outputs": [
    {
     "name": "stdout",
     "output_type": "stream",
     "text": [
      "92.10526315789474\n",
      "94.73684210526315\n",
      "94.73684210526315\n"
     ]
    }
   ],
   "source": [
    "data = load_breast_cancer()\n",
    "X = pd.DataFrame(data.data)\n",
    "Y = pd.DataFrame(data.target)\n",
    "#print(X)\n",
    "#print(Y)\n",
    "\n",
    "X1, y1 = data.data, data.target\n",
    "#print(X1.shape)\n",
    "#print(y1.shape)\n",
    "X_chi = SelectKBest(chi2, k=8).fit_transform(X1, y1)\n",
    "X_f_classif = SelectKBest(f_classif, k=8).fit_transform(X1, y1)\n",
    "X_mutual_info_classif = SelectKBest(mutual_info_classif, k=8).fit_transform(X1, y1)\n",
    "print(calculate_fscore(X_chi,y1))\n",
    "print(calculate_fscore(X_f_classif,y1))\n",
    "print(calculate_fscore(X_mutual_info_classif,y1))\n",
    "\n",
    "\n"
   ]
  }
 ],
 "metadata": {
  "kernelspec": {
   "display_name": "Python 3",
   "language": "python",
   "name": "python3"
  },
  "language_info": {
   "codemirror_mode": {
    "name": "ipython",
    "version": 3
   },
   "file_extension": ".py",
   "mimetype": "text/x-python",
   "name": "python",
   "nbconvert_exporter": "python",
   "pygments_lexer": "ipython3",
   "version": "3.7.3"
  }
 },
 "nbformat": 4,
 "nbformat_minor": 2
}
